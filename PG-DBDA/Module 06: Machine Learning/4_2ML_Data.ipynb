{
  "nbformat": 4,
  "nbformat_minor": 0,
  "metadata": {
    "colab": {
      "provenance": [],
      "collapsed_sections": [
        "veFzhjHv6voO",
        "Tuc_yPhxuGXD"
      ]
    },
    "kernelspec": {
      "name": "python3",
      "display_name": "Python 3"
    },
    "language_info": {
      "name": "python"
    }
  },
  "cells": [
    {
      "cell_type": "code",
      "execution_count": 1,
      "metadata": {
        "id": "LYsiNL0krT6l"
      },
      "outputs": [],
      "source": [
        "import numpy as np\n",
        "import pandas as pd\n",
        "import matplotlib.pyplot as plt\n",
        "import warnings\n",
        "warnings.filterwarnings(\"ignore\")\n"
      ]
    },
    {
      "cell_type": "code",
      "source": [
        "data = pd.read_csv('/1. Regression - Module - (Housing Prices).csv')"
      ],
      "metadata": {
        "id": "sCfkH1Nerzrn"
      },
      "execution_count": 2,
      "outputs": []
    },
    {
      "cell_type": "code",
      "source": [
        "data.head()"
      ],
      "metadata": {
        "colab": {
          "base_uri": "https://localhost:8080/",
          "height": 577
        },
        "id": "RAcHhPgo1M1H",
        "outputId": "d9babb22-2dbc-474c-8ea0-38947d71ee1a"
      },
      "execution_count": 4,
      "outputs": [
        {
          "output_type": "execute_result",
          "data": {
            "text/plain": [
              "           ID Date House was Sold  Sale Price  No of Bedrooms  \\\n",
              "0  7129300520     14 October 2017    221900.0               3   \n",
              "1  6414100192    14 December 2017    538000.0               3   \n",
              "2  5631500400    15 February 2016    180000.0               2   \n",
              "3  2487200875    14 December 2017    604000.0               4   \n",
              "4  1954400510    15 February 2016    510000.0               3   \n",
              "\n",
              "   No of Bathrooms  Flat Area (in Sqft)  Lot Area (in Sqft)  No of Floors  \\\n",
              "0             1.00               1180.0              5650.0           1.0   \n",
              "1             2.25               2570.0              7242.0           2.0   \n",
              "2             1.00                770.0             10000.0           1.0   \n",
              "3             3.00               1960.0              5000.0           1.0   \n",
              "4             2.00               1680.0              8080.0           1.0   \n",
              "\n",
              "  Waterfront View No of Times Visited  ... Overall Grade  \\\n",
              "0              No                None  ...             7   \n",
              "1              No                None  ...             7   \n",
              "2              No                None  ...             6   \n",
              "3              No                None  ...             7   \n",
              "4              No                None  ...             8   \n",
              "\n",
              "   Area of the House from Basement (in Sqft)  Basement Area (in Sqft)  \\\n",
              "0                                     1180.0                        0   \n",
              "1                                     2170.0                      400   \n",
              "2                                      770.0                        0   \n",
              "3                                     1050.0                      910   \n",
              "4                                     1680.0                        0   \n",
              "\n",
              "   Age of House (in Years)  Renovated Year  Zipcode  Latitude  Longitude  \\\n",
              "0                       63               0  98178.0   47.5112   -122.257   \n",
              "1                       67            1991  98125.0   47.7210   -122.319   \n",
              "2                       85               0  98028.0   47.7379   -122.233   \n",
              "3                       53               0  98136.0   47.5208   -122.393   \n",
              "4                       31               0  98074.0   47.6168   -122.045   \n",
              "\n",
              "   Living Area after Renovation (in Sqft)  Lot Area after Renovation (in Sqft)  \n",
              "0                                  1340.0                                 5650  \n",
              "1                                  1690.0                                 7639  \n",
              "2                                  2720.0                                 8062  \n",
              "3                                  1360.0                                 5000  \n",
              "4                                  1800.0                                 7503  \n",
              "\n",
              "[5 rows x 21 columns]"
            ],
            "text/html": [
              "\n",
              "  <div id=\"df-b0223bea-9267-4ab6-862c-b1f887fcc115\">\n",
              "    <div class=\"colab-df-container\">\n",
              "      <div>\n",
              "<style scoped>\n",
              "    .dataframe tbody tr th:only-of-type {\n",
              "        vertical-align: middle;\n",
              "    }\n",
              "\n",
              "    .dataframe tbody tr th {\n",
              "        vertical-align: top;\n",
              "    }\n",
              "\n",
              "    .dataframe thead th {\n",
              "        text-align: right;\n",
              "    }\n",
              "</style>\n",
              "<table border=\"1\" class=\"dataframe\">\n",
              "  <thead>\n",
              "    <tr style=\"text-align: right;\">\n",
              "      <th></th>\n",
              "      <th>ID</th>\n",
              "      <th>Date House was Sold</th>\n",
              "      <th>Sale Price</th>\n",
              "      <th>No of Bedrooms</th>\n",
              "      <th>No of Bathrooms</th>\n",
              "      <th>Flat Area (in Sqft)</th>\n",
              "      <th>Lot Area (in Sqft)</th>\n",
              "      <th>No of Floors</th>\n",
              "      <th>Waterfront View</th>\n",
              "      <th>No of Times Visited</th>\n",
              "      <th>...</th>\n",
              "      <th>Overall Grade</th>\n",
              "      <th>Area of the House from Basement (in Sqft)</th>\n",
              "      <th>Basement Area (in Sqft)</th>\n",
              "      <th>Age of House (in Years)</th>\n",
              "      <th>Renovated Year</th>\n",
              "      <th>Zipcode</th>\n",
              "      <th>Latitude</th>\n",
              "      <th>Longitude</th>\n",
              "      <th>Living Area after Renovation (in Sqft)</th>\n",
              "      <th>Lot Area after Renovation (in Sqft)</th>\n",
              "    </tr>\n",
              "  </thead>\n",
              "  <tbody>\n",
              "    <tr>\n",
              "      <th>0</th>\n",
              "      <td>7129300520</td>\n",
              "      <td>14 October 2017</td>\n",
              "      <td>221900.0</td>\n",
              "      <td>3</td>\n",
              "      <td>1.00</td>\n",
              "      <td>1180.0</td>\n",
              "      <td>5650.0</td>\n",
              "      <td>1.0</td>\n",
              "      <td>No</td>\n",
              "      <td>None</td>\n",
              "      <td>...</td>\n",
              "      <td>7</td>\n",
              "      <td>1180.0</td>\n",
              "      <td>0</td>\n",
              "      <td>63</td>\n",
              "      <td>0</td>\n",
              "      <td>98178.0</td>\n",
              "      <td>47.5112</td>\n",
              "      <td>-122.257</td>\n",
              "      <td>1340.0</td>\n",
              "      <td>5650</td>\n",
              "    </tr>\n",
              "    <tr>\n",
              "      <th>1</th>\n",
              "      <td>6414100192</td>\n",
              "      <td>14 December 2017</td>\n",
              "      <td>538000.0</td>\n",
              "      <td>3</td>\n",
              "      <td>2.25</td>\n",
              "      <td>2570.0</td>\n",
              "      <td>7242.0</td>\n",
              "      <td>2.0</td>\n",
              "      <td>No</td>\n",
              "      <td>None</td>\n",
              "      <td>...</td>\n",
              "      <td>7</td>\n",
              "      <td>2170.0</td>\n",
              "      <td>400</td>\n",
              "      <td>67</td>\n",
              "      <td>1991</td>\n",
              "      <td>98125.0</td>\n",
              "      <td>47.7210</td>\n",
              "      <td>-122.319</td>\n",
              "      <td>1690.0</td>\n",
              "      <td>7639</td>\n",
              "    </tr>\n",
              "    <tr>\n",
              "      <th>2</th>\n",
              "      <td>5631500400</td>\n",
              "      <td>15 February 2016</td>\n",
              "      <td>180000.0</td>\n",
              "      <td>2</td>\n",
              "      <td>1.00</td>\n",
              "      <td>770.0</td>\n",
              "      <td>10000.0</td>\n",
              "      <td>1.0</td>\n",
              "      <td>No</td>\n",
              "      <td>None</td>\n",
              "      <td>...</td>\n",
              "      <td>6</td>\n",
              "      <td>770.0</td>\n",
              "      <td>0</td>\n",
              "      <td>85</td>\n",
              "      <td>0</td>\n",
              "      <td>98028.0</td>\n",
              "      <td>47.7379</td>\n",
              "      <td>-122.233</td>\n",
              "      <td>2720.0</td>\n",
              "      <td>8062</td>\n",
              "    </tr>\n",
              "    <tr>\n",
              "      <th>3</th>\n",
              "      <td>2487200875</td>\n",
              "      <td>14 December 2017</td>\n",
              "      <td>604000.0</td>\n",
              "      <td>4</td>\n",
              "      <td>3.00</td>\n",
              "      <td>1960.0</td>\n",
              "      <td>5000.0</td>\n",
              "      <td>1.0</td>\n",
              "      <td>No</td>\n",
              "      <td>None</td>\n",
              "      <td>...</td>\n",
              "      <td>7</td>\n",
              "      <td>1050.0</td>\n",
              "      <td>910</td>\n",
              "      <td>53</td>\n",
              "      <td>0</td>\n",
              "      <td>98136.0</td>\n",
              "      <td>47.5208</td>\n",
              "      <td>-122.393</td>\n",
              "      <td>1360.0</td>\n",
              "      <td>5000</td>\n",
              "    </tr>\n",
              "    <tr>\n",
              "      <th>4</th>\n",
              "      <td>1954400510</td>\n",
              "      <td>15 February 2016</td>\n",
              "      <td>510000.0</td>\n",
              "      <td>3</td>\n",
              "      <td>2.00</td>\n",
              "      <td>1680.0</td>\n",
              "      <td>8080.0</td>\n",
              "      <td>1.0</td>\n",
              "      <td>No</td>\n",
              "      <td>None</td>\n",
              "      <td>...</td>\n",
              "      <td>8</td>\n",
              "      <td>1680.0</td>\n",
              "      <td>0</td>\n",
              "      <td>31</td>\n",
              "      <td>0</td>\n",
              "      <td>98074.0</td>\n",
              "      <td>47.6168</td>\n",
              "      <td>-122.045</td>\n",
              "      <td>1800.0</td>\n",
              "      <td>7503</td>\n",
              "    </tr>\n",
              "  </tbody>\n",
              "</table>\n",
              "<p>5 rows × 21 columns</p>\n",
              "</div>\n",
              "      <button class=\"colab-df-convert\" onclick=\"convertToInteractive('df-b0223bea-9267-4ab6-862c-b1f887fcc115')\"\n",
              "              title=\"Convert this dataframe to an interactive table.\"\n",
              "              style=\"display:none;\">\n",
              "        \n",
              "  <svg xmlns=\"http://www.w3.org/2000/svg\" height=\"24px\"viewBox=\"0 0 24 24\"\n",
              "       width=\"24px\">\n",
              "    <path d=\"M0 0h24v24H0V0z\" fill=\"none\"/>\n",
              "    <path d=\"M18.56 5.44l.94 2.06.94-2.06 2.06-.94-2.06-.94-.94-2.06-.94 2.06-2.06.94zm-11 1L8.5 8.5l.94-2.06 2.06-.94-2.06-.94L8.5 2.5l-.94 2.06-2.06.94zm10 10l.94 2.06.94-2.06 2.06-.94-2.06-.94-.94-2.06-.94 2.06-2.06.94z\"/><path d=\"M17.41 7.96l-1.37-1.37c-.4-.4-.92-.59-1.43-.59-.52 0-1.04.2-1.43.59L10.3 9.45l-7.72 7.72c-.78.78-.78 2.05 0 2.83L4 21.41c.39.39.9.59 1.41.59.51 0 1.02-.2 1.41-.59l7.78-7.78 2.81-2.81c.8-.78.8-2.07 0-2.86zM5.41 20L4 18.59l7.72-7.72 1.47 1.35L5.41 20z\"/>\n",
              "  </svg>\n",
              "      </button>\n",
              "      \n",
              "  <style>\n",
              "    .colab-df-container {\n",
              "      display:flex;\n",
              "      flex-wrap:wrap;\n",
              "      gap: 12px;\n",
              "    }\n",
              "\n",
              "    .colab-df-convert {\n",
              "      background-color: #E8F0FE;\n",
              "      border: none;\n",
              "      border-radius: 50%;\n",
              "      cursor: pointer;\n",
              "      display: none;\n",
              "      fill: #1967D2;\n",
              "      height: 32px;\n",
              "      padding: 0 0 0 0;\n",
              "      width: 32px;\n",
              "    }\n",
              "\n",
              "    .colab-df-convert:hover {\n",
              "      background-color: #E2EBFA;\n",
              "      box-shadow: 0px 1px 2px rgba(60, 64, 67, 0.3), 0px 1px 3px 1px rgba(60, 64, 67, 0.15);\n",
              "      fill: #174EA6;\n",
              "    }\n",
              "\n",
              "    [theme=dark] .colab-df-convert {\n",
              "      background-color: #3B4455;\n",
              "      fill: #D2E3FC;\n",
              "    }\n",
              "\n",
              "    [theme=dark] .colab-df-convert:hover {\n",
              "      background-color: #434B5C;\n",
              "      box-shadow: 0px 1px 3px 1px rgba(0, 0, 0, 0.15);\n",
              "      filter: drop-shadow(0px 1px 2px rgba(0, 0, 0, 0.3));\n",
              "      fill: #FFFFFF;\n",
              "    }\n",
              "  </style>\n",
              "\n",
              "      <script>\n",
              "        const buttonEl =\n",
              "          document.querySelector('#df-b0223bea-9267-4ab6-862c-b1f887fcc115 button.colab-df-convert');\n",
              "        buttonEl.style.display =\n",
              "          google.colab.kernel.accessAllowed ? 'block' : 'none';\n",
              "\n",
              "        async function convertToInteractive(key) {\n",
              "          const element = document.querySelector('#df-b0223bea-9267-4ab6-862c-b1f887fcc115');\n",
              "          const dataTable =\n",
              "            await google.colab.kernel.invokeFunction('convertToInteractive',\n",
              "                                                     [key], {});\n",
              "          if (!dataTable) return;\n",
              "\n",
              "          const docLinkHtml = 'Like what you see? Visit the ' +\n",
              "            '<a target=\"_blank\" href=https://colab.research.google.com/notebooks/data_table.ipynb>data table notebook</a>'\n",
              "            + ' to learn more about interactive tables.';\n",
              "          element.innerHTML = '';\n",
              "          dataTable['output_type'] = 'display_data';\n",
              "          await google.colab.output.renderOutput(dataTable, element);\n",
              "          const docLink = document.createElement('div');\n",
              "          docLink.innerHTML = docLinkHtml;\n",
              "          element.appendChild(docLink);\n",
              "        }\n",
              "      </script>\n",
              "    </div>\n",
              "  </div>\n",
              "  "
            ]
          },
          "metadata": {},
          "execution_count": 4
        }
      ]
    },
    {
      "cell_type": "code",
      "source": [
        "data['Zipcode'].unique()"
      ],
      "metadata": {
        "colab": {
          "base_uri": "https://localhost:8080/"
        },
        "id": "3PTg9Pp-1Riv",
        "outputId": "788609a6-3ead-4f16-d5ef-4dd9f95fe64d"
      },
      "execution_count": 5,
      "outputs": [
        {
          "output_type": "execute_result",
          "data": {
            "text/plain": [
              "array([98178., 98125., 98028., 98136., 98074., 98053., 98003., 98198.,\n",
              "       98146., 98038., 98007., 98115., 98107., 98126., 98019., 98103.,\n",
              "       98002., 98133., 98040., 98092., 98030., 98119., 98112., 98052.,\n",
              "       98027., 98117., 98058., 98001., 98056., 98166., 98023., 98070.,\n",
              "       98148., 98105., 98042., 98008., 98059., 98122., 98144., 98004.,\n",
              "       98005., 98034., 98075., 98116., 98010., 98118., 98199., 98032.,\n",
              "       98045., 98102., 98077., 98108., 98168., 98177., 98065., 98029.,\n",
              "       98006., 98109., 98022., 98033., 98155., 98024., 98011., 98031.,\n",
              "       98106., 98072., 98188., 98014., 98055.,    nan, 98039.])"
            ]
          },
          "metadata": {},
          "execution_count": 5
        }
      ]
    },
    {
      "cell_type": "code",
      "source": [
        "data['Sale Price'].mean().round(3)"
      ],
      "metadata": {
        "colab": {
          "base_uri": "https://localhost:8080/"
        },
        "id": "Ng3FWGEG1iat",
        "outputId": "3df4b0dd-2dbf-4bb5-b09d-1cab8b6779fc"
      },
      "execution_count": 7,
      "outputs": [
        {
          "output_type": "execute_result",
          "data": {
            "text/plain": [
              "540198.436"
            ]
          },
          "metadata": {},
          "execution_count": 7
        }
      ]
    },
    {
      "cell_type": "markdown",
      "source": [
        "**Q FInd out the mean sale price with respect to both condition of the house and zipcode**"
      ],
      "metadata": {
        "id": "jGwDTTPa2P3U"
      }
    },
    {
      "cell_type": "code",
      "source": [
        "# initialize the new variable\n",
        "data['Condition sale']=0"
      ],
      "metadata": {
        "id": "IIDDNCJM1n39"
      },
      "execution_count": 9,
      "outputs": []
    },
    {
      "cell_type": "code",
      "source": [
        "data['Condition of the House'].unique()"
      ],
      "metadata": {
        "id": "nSi2i29L1n0a",
        "colab": {
          "base_uri": "https://localhost:8080/"
        },
        "outputId": "046b965d-356e-4ceb-bfe3-b7453ef4da35"
      },
      "execution_count": 12,
      "outputs": [
        {
          "output_type": "execute_result",
          "data": {
            "text/plain": [
              "array(['Fair', 'Excellent', 'Good', 'Bad', 'Okay'], dtype=object)"
            ]
          },
          "metadata": {},
          "execution_count": 12
        }
      ]
    },
    {
      "cell_type": "code",
      "source": [
        "c='Condition of the House'\n",
        "z='Zipcode'"
      ],
      "metadata": {
        "id": "j2dOzA3M2b-z"
      },
      "execution_count": 13,
      "outputs": []
    },
    {
      "cell_type": "markdown",
      "source": [
        "Calculating mean based on condition of the house and zipcode"
      ],
      "metadata": {
        "id": "YENtgsz-qBc4"
      }
    },
    {
      "cell_type": "code",
      "source": [
        "import time\n",
        "#Initialising a new column\n",
        "data['zip_condition_sale'] = 0\n",
        "\n",
        "C = 'Condition of the House'\n",
        "Z = \"Zipcode\"\n",
        "\n",
        "tick = time.time()\n",
        "# Calculating mean based on the condition of the House and zipcode\n",
        "for i in data[C].unique():\n",
        "  for j in data[Z].unique() :\n",
        "    data['zip_condition_sale'][(data[C] == str(i)) & (data[Z] == j) ] = data['Sale Price'][(data[C] == str(i)) & (data[Z] == j)].mean()\n",
        "tock = time.time()\n",
        "time1 = tock - tick\n",
        "len(data['zip_condition_sale'].unique())\n"
      ],
      "metadata": {
        "colab": {
          "base_uri": "https://localhost:8080/"
        },
        "id": "g7_2VD47qBDt",
        "outputId": "816e1b81-0d18-4fac-d76d-cd9bd53144fa"
      },
      "execution_count": 19,
      "outputs": [
        {
          "output_type": "execute_result",
          "data": {
            "text/plain": [
              "281"
            ]
          },
          "metadata": {},
          "execution_count": 19
        }
      ]
    },
    {
      "cell_type": "code",
      "source": [
        "print(tick,tock)\n",
        "print(time1)"
      ],
      "metadata": {
        "colab": {
          "base_uri": "https://localhost:8080/"
        },
        "id": "2EtgGtx9rwzu",
        "outputId": "4bc1ec8a-e7ec-4566-9d47-60b0c949cc0a"
      },
      "execution_count": 20,
      "outputs": [
        {
          "output_type": "stream",
          "name": "stdout",
          "text": [
            "1673069003.2846513 1673069005.1846814\n",
            "1.9000301361083984\n"
          ]
        }
      ]
    },
    {
      "cell_type": "markdown",
      "source": [
        "# groupby function"
      ],
      "metadata": {
        "id": "veFzhjHv6voO"
      }
    },
    {
      "cell_type": "code",
      "source": [],
      "metadata": {
        "id": "dQI9PXZF6vUv"
      },
      "execution_count": null,
      "outputs": []
    },
    {
      "cell_type": "markdown",
      "source": [
        "above method is not efficient so we have another solution group by"
      ],
      "metadata": {
        "id": "OT6BP3Wor6Nz"
      }
    },
    {
      "cell_type": "code",
      "source": [
        "zip_condition_sale = data.groupby(['Condition of the House', 'Zipcode'])['Sale Price'].mean()\n",
        "\n",
        "zip_condition_sale\n"
      ],
      "metadata": {
        "colab": {
          "base_uri": "https://localhost:8080/"
        },
        "id": "5tRuS_FbsaWB",
        "outputId": "bb897b38-8546-414c-eeec-568b20e44036"
      },
      "execution_count": 26,
      "outputs": [
        {
          "output_type": "execute_result",
          "data": {
            "text/plain": [
              "Condition of the House  Zipcode\n",
              "Bad                     98004.0    1.500000e+06\n",
              "                        98006.0    3.725000e+05\n",
              "                        98011.0    2.700000e+05\n",
              "                        98023.0    1.500000e+05\n",
              "                        98024.0    1.420000e+05\n",
              "                                       ...     \n",
              "Okay                    98155.0    3.601833e+05\n",
              "                        98166.0    2.165625e+05\n",
              "                        98168.0    1.809389e+05\n",
              "                        98178.0    1.750000e+05\n",
              "                        98198.0    2.705325e+05\n",
              "Name: Sale Price, Length: 283, dtype: float64"
            ]
          },
          "metadata": {},
          "execution_count": 26
        }
      ]
    },
    {
      "cell_type": "code",
      "source": [
        "len(zip_condition_sale.unique())"
      ],
      "metadata": {
        "colab": {
          "base_uri": "https://localhost:8080/"
        },
        "id": "5q0Wdi4EtdXk",
        "outputId": "e82228ef-5832-49b6-d7c5-b4a523399ab9"
      },
      "execution_count": 30,
      "outputs": [
        {
          "output_type": "execute_result",
          "data": {
            "text/plain": [
              "280"
            ]
          },
          "metadata": {},
          "execution_count": 30
        }
      ]
    },
    {
      "cell_type": "markdown",
      "source": [
        "# Pivot_Table Funtion"
      ],
      "metadata": {
        "id": "Tuc_yPhxuGXD"
      }
    },
    {
      "cell_type": "code",
      "source": [
        "zip_condition_sale2  = pd.pivot_table(data, index=[\"Condition of the House\",\"Zipcode\"], values=[\"Sale Price\"], aggfunc=np.mean)"
      ],
      "metadata": {
        "id": "pXf1_t1LuJQ-"
      },
      "execution_count": 36,
      "outputs": []
    },
    {
      "cell_type": "code",
      "source": [
        "zip_condition_sale2"
      ],
      "metadata": {
        "colab": {
          "base_uri": "https://localhost:8080/",
          "height": 455
        },
        "id": "V1JhaUT2vCN0",
        "outputId": "f4d18be5-c761-43a3-cb1d-76e91aac5558"
      },
      "execution_count": 40,
      "outputs": [
        {
          "output_type": "execute_result",
          "data": {
            "text/plain": [
              "                                  Sale Price\n",
              "Condition of the House Zipcode              \n",
              "Bad                    98004.0  1.500000e+06\n",
              "                       98006.0  3.725000e+05\n",
              "                       98011.0  2.700000e+05\n",
              "                       98023.0  1.500000e+05\n",
              "                       98024.0  1.420000e+05\n",
              "...                                      ...\n",
              "Okay                   98155.0  3.601833e+05\n",
              "                       98166.0  2.165625e+05\n",
              "                       98168.0  1.809389e+05\n",
              "                       98178.0  1.750000e+05\n",
              "                       98198.0  2.705325e+05\n",
              "\n",
              "[283 rows x 1 columns]"
            ],
            "text/html": [
              "\n",
              "  <div id=\"df-2ba7b8f7-d263-4611-8805-c034f0042576\">\n",
              "    <div class=\"colab-df-container\">\n",
              "      <div>\n",
              "<style scoped>\n",
              "    .dataframe tbody tr th:only-of-type {\n",
              "        vertical-align: middle;\n",
              "    }\n",
              "\n",
              "    .dataframe tbody tr th {\n",
              "        vertical-align: top;\n",
              "    }\n",
              "\n",
              "    .dataframe thead th {\n",
              "        text-align: right;\n",
              "    }\n",
              "</style>\n",
              "<table border=\"1\" class=\"dataframe\">\n",
              "  <thead>\n",
              "    <tr style=\"text-align: right;\">\n",
              "      <th></th>\n",
              "      <th></th>\n",
              "      <th>Sale Price</th>\n",
              "    </tr>\n",
              "    <tr>\n",
              "      <th>Condition of the House</th>\n",
              "      <th>Zipcode</th>\n",
              "      <th></th>\n",
              "    </tr>\n",
              "  </thead>\n",
              "  <tbody>\n",
              "    <tr>\n",
              "      <th rowspan=\"5\" valign=\"top\">Bad</th>\n",
              "      <th>98004.0</th>\n",
              "      <td>1.500000e+06</td>\n",
              "    </tr>\n",
              "    <tr>\n",
              "      <th>98006.0</th>\n",
              "      <td>3.725000e+05</td>\n",
              "    </tr>\n",
              "    <tr>\n",
              "      <th>98011.0</th>\n",
              "      <td>2.700000e+05</td>\n",
              "    </tr>\n",
              "    <tr>\n",
              "      <th>98023.0</th>\n",
              "      <td>1.500000e+05</td>\n",
              "    </tr>\n",
              "    <tr>\n",
              "      <th>98024.0</th>\n",
              "      <td>1.420000e+05</td>\n",
              "    </tr>\n",
              "    <tr>\n",
              "      <th>...</th>\n",
              "      <th>...</th>\n",
              "      <td>...</td>\n",
              "    </tr>\n",
              "    <tr>\n",
              "      <th rowspan=\"5\" valign=\"top\">Okay</th>\n",
              "      <th>98155.0</th>\n",
              "      <td>3.601833e+05</td>\n",
              "    </tr>\n",
              "    <tr>\n",
              "      <th>98166.0</th>\n",
              "      <td>2.165625e+05</td>\n",
              "    </tr>\n",
              "    <tr>\n",
              "      <th>98168.0</th>\n",
              "      <td>1.809389e+05</td>\n",
              "    </tr>\n",
              "    <tr>\n",
              "      <th>98178.0</th>\n",
              "      <td>1.750000e+05</td>\n",
              "    </tr>\n",
              "    <tr>\n",
              "      <th>98198.0</th>\n",
              "      <td>2.705325e+05</td>\n",
              "    </tr>\n",
              "  </tbody>\n",
              "</table>\n",
              "<p>283 rows × 1 columns</p>\n",
              "</div>\n",
              "      <button class=\"colab-df-convert\" onclick=\"convertToInteractive('df-2ba7b8f7-d263-4611-8805-c034f0042576')\"\n",
              "              title=\"Convert this dataframe to an interactive table.\"\n",
              "              style=\"display:none;\">\n",
              "        \n",
              "  <svg xmlns=\"http://www.w3.org/2000/svg\" height=\"24px\"viewBox=\"0 0 24 24\"\n",
              "       width=\"24px\">\n",
              "    <path d=\"M0 0h24v24H0V0z\" fill=\"none\"/>\n",
              "    <path d=\"M18.56 5.44l.94 2.06.94-2.06 2.06-.94-2.06-.94-.94-2.06-.94 2.06-2.06.94zm-11 1L8.5 8.5l.94-2.06 2.06-.94-2.06-.94L8.5 2.5l-.94 2.06-2.06.94zm10 10l.94 2.06.94-2.06 2.06-.94-2.06-.94-.94-2.06-.94 2.06-2.06.94z\"/><path d=\"M17.41 7.96l-1.37-1.37c-.4-.4-.92-.59-1.43-.59-.52 0-1.04.2-1.43.59L10.3 9.45l-7.72 7.72c-.78.78-.78 2.05 0 2.83L4 21.41c.39.39.9.59 1.41.59.51 0 1.02-.2 1.41-.59l7.78-7.78 2.81-2.81c.8-.78.8-2.07 0-2.86zM5.41 20L4 18.59l7.72-7.72 1.47 1.35L5.41 20z\"/>\n",
              "  </svg>\n",
              "      </button>\n",
              "      \n",
              "  <style>\n",
              "    .colab-df-container {\n",
              "      display:flex;\n",
              "      flex-wrap:wrap;\n",
              "      gap: 12px;\n",
              "    }\n",
              "\n",
              "    .colab-df-convert {\n",
              "      background-color: #E8F0FE;\n",
              "      border: none;\n",
              "      border-radius: 50%;\n",
              "      cursor: pointer;\n",
              "      display: none;\n",
              "      fill: #1967D2;\n",
              "      height: 32px;\n",
              "      padding: 0 0 0 0;\n",
              "      width: 32px;\n",
              "    }\n",
              "\n",
              "    .colab-df-convert:hover {\n",
              "      background-color: #E2EBFA;\n",
              "      box-shadow: 0px 1px 2px rgba(60, 64, 67, 0.3), 0px 1px 3px 1px rgba(60, 64, 67, 0.15);\n",
              "      fill: #174EA6;\n",
              "    }\n",
              "\n",
              "    [theme=dark] .colab-df-convert {\n",
              "      background-color: #3B4455;\n",
              "      fill: #D2E3FC;\n",
              "    }\n",
              "\n",
              "    [theme=dark] .colab-df-convert:hover {\n",
              "      background-color: #434B5C;\n",
              "      box-shadow: 0px 1px 3px 1px rgba(0, 0, 0, 0.15);\n",
              "      filter: drop-shadow(0px 1px 2px rgba(0, 0, 0, 0.3));\n",
              "      fill: #FFFFFF;\n",
              "    }\n",
              "  </style>\n",
              "\n",
              "      <script>\n",
              "        const buttonEl =\n",
              "          document.querySelector('#df-2ba7b8f7-d263-4611-8805-c034f0042576 button.colab-df-convert');\n",
              "        buttonEl.style.display =\n",
              "          google.colab.kernel.accessAllowed ? 'block' : 'none';\n",
              "\n",
              "        async function convertToInteractive(key) {\n",
              "          const element = document.querySelector('#df-2ba7b8f7-d263-4611-8805-c034f0042576');\n",
              "          const dataTable =\n",
              "            await google.colab.kernel.invokeFunction('convertToInteractive',\n",
              "                                                     [key], {});\n",
              "          if (!dataTable) return;\n",
              "\n",
              "          const docLinkHtml = 'Like what you see? Visit the ' +\n",
              "            '<a target=\"_blank\" href=https://colab.research.google.com/notebooks/data_table.ipynb>data table notebook</a>'\n",
              "            + ' to learn more about interactive tables.';\n",
              "          element.innerHTML = '';\n",
              "          dataTable['output_type'] = 'display_data';\n",
              "          await google.colab.output.renderOutput(dataTable, element);\n",
              "          const docLink = document.createElement('div');\n",
              "          docLink.innerHTML = docLinkHtml;\n",
              "          element.appendChild(docLink);\n",
              "        }\n",
              "      </script>\n",
              "    </div>\n",
              "  </div>\n",
              "  "
            ]
          },
          "metadata": {},
          "execution_count": 40
        }
      ]
    },
    {
      "cell_type": "markdown",
      "source": [
        "# Pandas Map Function"
      ],
      "metadata": {
        "id": "rK73wTzgviQ-"
      }
    },
    {
      "cell_type": "markdown",
      "source": [
        "\n",
        "Q Find out plot length of plot area"
      ],
      "metadata": {
        "id": "UBoBFK3Tvr1s"
      }
    },
    {
      "cell_type": "code",
      "source": [
        "data.head()"
      ],
      "metadata": {
        "colab": {
          "base_uri": "https://localhost:8080/",
          "height": 525
        },
        "id": "fYeswq19vn83",
        "outputId": "639c6f99-44aa-48e3-a5bb-be17d490fd95"
      },
      "execution_count": 41,
      "outputs": [
        {
          "output_type": "execute_result",
          "data": {
            "text/plain": [
              "           ID Date House was Sold  Sale Price  No of Bedrooms  \\\n",
              "0  7129300520     14 October 2017    221900.0               3   \n",
              "1  6414100192    14 December 2017    538000.0               3   \n",
              "2  5631500400    15 February 2016    180000.0               2   \n",
              "3  2487200875    14 December 2017    604000.0               4   \n",
              "4  1954400510    15 February 2016    510000.0               3   \n",
              "\n",
              "   No of Bathrooms  Flat Area (in Sqft)  Lot Area (in Sqft)  No of Floors  \\\n",
              "0             1.00               1180.0              5650.0           1.0   \n",
              "1             2.25               2570.0              7242.0           2.0   \n",
              "2             1.00                770.0             10000.0           1.0   \n",
              "3             3.00               1960.0              5000.0           1.0   \n",
              "4             2.00               1680.0              8080.0           1.0   \n",
              "\n",
              "  Waterfront View No of Times Visited  ... Basement Area (in Sqft)  \\\n",
              "0              No                None  ...                       0   \n",
              "1              No                None  ...                     400   \n",
              "2              No                None  ...                       0   \n",
              "3              No                None  ...                     910   \n",
              "4              No                None  ...                       0   \n",
              "\n",
              "   Age of House (in Years)  Renovated Year  Zipcode  Latitude  Longitude  \\\n",
              "0                       63               0  98178.0   47.5112   -122.257   \n",
              "1                       67            1991  98125.0   47.7210   -122.319   \n",
              "2                       85               0  98028.0   47.7379   -122.233   \n",
              "3                       53               0  98136.0   47.5208   -122.393   \n",
              "4                       31               0  98074.0   47.6168   -122.045   \n",
              "\n",
              "   Living Area after Renovation (in Sqft)  \\\n",
              "0                                  1340.0   \n",
              "1                                  1690.0   \n",
              "2                                  2720.0   \n",
              "3                                  1360.0   \n",
              "4                                  1800.0   \n",
              "\n",
              "   Lot Area after Renovation (in Sqft)  Condition sale  zip_condition_sale  \n",
              "0                                 5650               0       309410.492386  \n",
              "1                                 7639               0       457826.833898  \n",
              "2                                 8062               0       463785.870192  \n",
              "3                                 5000               0       713929.545455  \n",
              "4                                 7503               0       701063.688312  \n",
              "\n",
              "[5 rows x 23 columns]"
            ],
            "text/html": [
              "\n",
              "  <div id=\"df-08d31958-8056-4d9c-be0f-f4adcf9d3489\">\n",
              "    <div class=\"colab-df-container\">\n",
              "      <div>\n",
              "<style scoped>\n",
              "    .dataframe tbody tr th:only-of-type {\n",
              "        vertical-align: middle;\n",
              "    }\n",
              "\n",
              "    .dataframe tbody tr th {\n",
              "        vertical-align: top;\n",
              "    }\n",
              "\n",
              "    .dataframe thead th {\n",
              "        text-align: right;\n",
              "    }\n",
              "</style>\n",
              "<table border=\"1\" class=\"dataframe\">\n",
              "  <thead>\n",
              "    <tr style=\"text-align: right;\">\n",
              "      <th></th>\n",
              "      <th>ID</th>\n",
              "      <th>Date House was Sold</th>\n",
              "      <th>Sale Price</th>\n",
              "      <th>No of Bedrooms</th>\n",
              "      <th>No of Bathrooms</th>\n",
              "      <th>Flat Area (in Sqft)</th>\n",
              "      <th>Lot Area (in Sqft)</th>\n",
              "      <th>No of Floors</th>\n",
              "      <th>Waterfront View</th>\n",
              "      <th>No of Times Visited</th>\n",
              "      <th>...</th>\n",
              "      <th>Basement Area (in Sqft)</th>\n",
              "      <th>Age of House (in Years)</th>\n",
              "      <th>Renovated Year</th>\n",
              "      <th>Zipcode</th>\n",
              "      <th>Latitude</th>\n",
              "      <th>Longitude</th>\n",
              "      <th>Living Area after Renovation (in Sqft)</th>\n",
              "      <th>Lot Area after Renovation (in Sqft)</th>\n",
              "      <th>Condition sale</th>\n",
              "      <th>zip_condition_sale</th>\n",
              "    </tr>\n",
              "  </thead>\n",
              "  <tbody>\n",
              "    <tr>\n",
              "      <th>0</th>\n",
              "      <td>7129300520</td>\n",
              "      <td>14 October 2017</td>\n",
              "      <td>221900.0</td>\n",
              "      <td>3</td>\n",
              "      <td>1.00</td>\n",
              "      <td>1180.0</td>\n",
              "      <td>5650.0</td>\n",
              "      <td>1.0</td>\n",
              "      <td>No</td>\n",
              "      <td>None</td>\n",
              "      <td>...</td>\n",
              "      <td>0</td>\n",
              "      <td>63</td>\n",
              "      <td>0</td>\n",
              "      <td>98178.0</td>\n",
              "      <td>47.5112</td>\n",
              "      <td>-122.257</td>\n",
              "      <td>1340.0</td>\n",
              "      <td>5650</td>\n",
              "      <td>0</td>\n",
              "      <td>309410.492386</td>\n",
              "    </tr>\n",
              "    <tr>\n",
              "      <th>1</th>\n",
              "      <td>6414100192</td>\n",
              "      <td>14 December 2017</td>\n",
              "      <td>538000.0</td>\n",
              "      <td>3</td>\n",
              "      <td>2.25</td>\n",
              "      <td>2570.0</td>\n",
              "      <td>7242.0</td>\n",
              "      <td>2.0</td>\n",
              "      <td>No</td>\n",
              "      <td>None</td>\n",
              "      <td>...</td>\n",
              "      <td>400</td>\n",
              "      <td>67</td>\n",
              "      <td>1991</td>\n",
              "      <td>98125.0</td>\n",
              "      <td>47.7210</td>\n",
              "      <td>-122.319</td>\n",
              "      <td>1690.0</td>\n",
              "      <td>7639</td>\n",
              "      <td>0</td>\n",
              "      <td>457826.833898</td>\n",
              "    </tr>\n",
              "    <tr>\n",
              "      <th>2</th>\n",
              "      <td>5631500400</td>\n",
              "      <td>15 February 2016</td>\n",
              "      <td>180000.0</td>\n",
              "      <td>2</td>\n",
              "      <td>1.00</td>\n",
              "      <td>770.0</td>\n",
              "      <td>10000.0</td>\n",
              "      <td>1.0</td>\n",
              "      <td>No</td>\n",
              "      <td>None</td>\n",
              "      <td>...</td>\n",
              "      <td>0</td>\n",
              "      <td>85</td>\n",
              "      <td>0</td>\n",
              "      <td>98028.0</td>\n",
              "      <td>47.7379</td>\n",
              "      <td>-122.233</td>\n",
              "      <td>2720.0</td>\n",
              "      <td>8062</td>\n",
              "      <td>0</td>\n",
              "      <td>463785.870192</td>\n",
              "    </tr>\n",
              "    <tr>\n",
              "      <th>3</th>\n",
              "      <td>2487200875</td>\n",
              "      <td>14 December 2017</td>\n",
              "      <td>604000.0</td>\n",
              "      <td>4</td>\n",
              "      <td>3.00</td>\n",
              "      <td>1960.0</td>\n",
              "      <td>5000.0</td>\n",
              "      <td>1.0</td>\n",
              "      <td>No</td>\n",
              "      <td>None</td>\n",
              "      <td>...</td>\n",
              "      <td>910</td>\n",
              "      <td>53</td>\n",
              "      <td>0</td>\n",
              "      <td>98136.0</td>\n",
              "      <td>47.5208</td>\n",
              "      <td>-122.393</td>\n",
              "      <td>1360.0</td>\n",
              "      <td>5000</td>\n",
              "      <td>0</td>\n",
              "      <td>713929.545455</td>\n",
              "    </tr>\n",
              "    <tr>\n",
              "      <th>4</th>\n",
              "      <td>1954400510</td>\n",
              "      <td>15 February 2016</td>\n",
              "      <td>510000.0</td>\n",
              "      <td>3</td>\n",
              "      <td>2.00</td>\n",
              "      <td>1680.0</td>\n",
              "      <td>8080.0</td>\n",
              "      <td>1.0</td>\n",
              "      <td>No</td>\n",
              "      <td>None</td>\n",
              "      <td>...</td>\n",
              "      <td>0</td>\n",
              "      <td>31</td>\n",
              "      <td>0</td>\n",
              "      <td>98074.0</td>\n",
              "      <td>47.6168</td>\n",
              "      <td>-122.045</td>\n",
              "      <td>1800.0</td>\n",
              "      <td>7503</td>\n",
              "      <td>0</td>\n",
              "      <td>701063.688312</td>\n",
              "    </tr>\n",
              "  </tbody>\n",
              "</table>\n",
              "<p>5 rows × 23 columns</p>\n",
              "</div>\n",
              "      <button class=\"colab-df-convert\" onclick=\"convertToInteractive('df-08d31958-8056-4d9c-be0f-f4adcf9d3489')\"\n",
              "              title=\"Convert this dataframe to an interactive table.\"\n",
              "              style=\"display:none;\">\n",
              "        \n",
              "  <svg xmlns=\"http://www.w3.org/2000/svg\" height=\"24px\"viewBox=\"0 0 24 24\"\n",
              "       width=\"24px\">\n",
              "    <path d=\"M0 0h24v24H0V0z\" fill=\"none\"/>\n",
              "    <path d=\"M18.56 5.44l.94 2.06.94-2.06 2.06-.94-2.06-.94-.94-2.06-.94 2.06-2.06.94zm-11 1L8.5 8.5l.94-2.06 2.06-.94-2.06-.94L8.5 2.5l-.94 2.06-2.06.94zm10 10l.94 2.06.94-2.06 2.06-.94-2.06-.94-.94-2.06-.94 2.06-2.06.94z\"/><path d=\"M17.41 7.96l-1.37-1.37c-.4-.4-.92-.59-1.43-.59-.52 0-1.04.2-1.43.59L10.3 9.45l-7.72 7.72c-.78.78-.78 2.05 0 2.83L4 21.41c.39.39.9.59 1.41.59.51 0 1.02-.2 1.41-.59l7.78-7.78 2.81-2.81c.8-.78.8-2.07 0-2.86zM5.41 20L4 18.59l7.72-7.72 1.47 1.35L5.41 20z\"/>\n",
              "  </svg>\n",
              "      </button>\n",
              "      \n",
              "  <style>\n",
              "    .colab-df-container {\n",
              "      display:flex;\n",
              "      flex-wrap:wrap;\n",
              "      gap: 12px;\n",
              "    }\n",
              "\n",
              "    .colab-df-convert {\n",
              "      background-color: #E8F0FE;\n",
              "      border: none;\n",
              "      border-radius: 50%;\n",
              "      cursor: pointer;\n",
              "      display: none;\n",
              "      fill: #1967D2;\n",
              "      height: 32px;\n",
              "      padding: 0 0 0 0;\n",
              "      width: 32px;\n",
              "    }\n",
              "\n",
              "    .colab-df-convert:hover {\n",
              "      background-color: #E2EBFA;\n",
              "      box-shadow: 0px 1px 2px rgba(60, 64, 67, 0.3), 0px 1px 3px 1px rgba(60, 64, 67, 0.15);\n",
              "      fill: #174EA6;\n",
              "    }\n",
              "\n",
              "    [theme=dark] .colab-df-convert {\n",
              "      background-color: #3B4455;\n",
              "      fill: #D2E3FC;\n",
              "    }\n",
              "\n",
              "    [theme=dark] .colab-df-convert:hover {\n",
              "      background-color: #434B5C;\n",
              "      box-shadow: 0px 1px 3px 1px rgba(0, 0, 0, 0.15);\n",
              "      filter: drop-shadow(0px 1px 2px rgba(0, 0, 0, 0.3));\n",
              "      fill: #FFFFFF;\n",
              "    }\n",
              "  </style>\n",
              "\n",
              "      <script>\n",
              "        const buttonEl =\n",
              "          document.querySelector('#df-08d31958-8056-4d9c-be0f-f4adcf9d3489 button.colab-df-convert');\n",
              "        buttonEl.style.display =\n",
              "          google.colab.kernel.accessAllowed ? 'block' : 'none';\n",
              "\n",
              "        async function convertToInteractive(key) {\n",
              "          const element = document.querySelector('#df-08d31958-8056-4d9c-be0f-f4adcf9d3489');\n",
              "          const dataTable =\n",
              "            await google.colab.kernel.invokeFunction('convertToInteractive',\n",
              "                                                     [key], {});\n",
              "          if (!dataTable) return;\n",
              "\n",
              "          const docLinkHtml = 'Like what you see? Visit the ' +\n",
              "            '<a target=\"_blank\" href=https://colab.research.google.com/notebooks/data_table.ipynb>data table notebook</a>'\n",
              "            + ' to learn more about interactive tables.';\n",
              "          element.innerHTML = '';\n",
              "          dataTable['output_type'] = 'display_data';\n",
              "          await google.colab.output.renderOutput(dataTable, element);\n",
              "          const docLink = document.createElement('div');\n",
              "          docLink.innerHTML = docLinkHtml;\n",
              "          element.appendChild(docLink);\n",
              "        }\n",
              "      </script>\n",
              "    </div>\n",
              "  </div>\n",
              "  "
            ]
          },
          "metadata": {},
          "execution_count": 41
        }
      ]
    },
    {
      "cell_type": "code",
      "source": [
        "data['Plot length']=data['Flat Area (in Sqft)']**0.5"
      ],
      "metadata": {
        "id": "RsrFFMsuxJ1X"
      },
      "execution_count": 42,
      "outputs": []
    },
    {
      "cell_type": "code",
      "source": [
        "data['Plot length'].head()"
      ],
      "metadata": {
        "colab": {
          "base_uri": "https://localhost:8080/"
        },
        "id": "BInmnlTZxWJw",
        "outputId": "3151c2ea-3e3e-40c1-c8da-4abf6b914fa0"
      },
      "execution_count": 43,
      "outputs": [
        {
          "output_type": "execute_result",
          "data": {
            "text/plain": [
              "0    34.351128\n",
              "1    50.695167\n",
              "2    27.748874\n",
              "3    44.271887\n",
              "4    40.987803\n",
              "Name: Plot length, dtype: float64"
            ]
          },
          "metadata": {},
          "execution_count": 43
        }
      ]
    },
    {
      "cell_type": "markdown",
      "source": [
        "Q Calculating Total area of the House"
      ],
      "metadata": {
        "id": "zshwI-Q3xrWD"
      }
    },
    {
      "cell_type": "code",
      "source": [
        "data['Total_area']=data['Flat Area (in Sqft)']+data['Lot Area (in Sqft)']"
      ],
      "metadata": {
        "id": "QJ0cCtsWxyIv"
      },
      "execution_count": 44,
      "outputs": []
    },
    {
      "cell_type": "code",
      "source": [
        "data['Total_area'].head()"
      ],
      "metadata": {
        "colab": {
          "base_uri": "https://localhost:8080/"
        },
        "id": "dDsbguoox-az",
        "outputId": "be0b2dc2-34ea-44be-a5fd-3e94bfbdfcff"
      },
      "execution_count": 45,
      "outputs": [
        {
          "output_type": "execute_result",
          "data": {
            "text/plain": [
              "0     6830.0\n",
              "1     9812.0\n",
              "2    10770.0\n",
              "3     6960.0\n",
              "4     9760.0\n",
              "Name: Total_area, dtype: float64"
            ]
          },
          "metadata": {},
          "execution_count": 45
        }
      ]
    },
    {
      "cell_type": "code",
      "source": [
        "data['Condition of the House'][data['Condition of the House']=='Fair']='1'\n",
        "data['Condition of the House'][data['Condition of the House']=='Okay']='0'\n",
        "data['Condition of the House'][data['Condition of the House']=='Bad']='0'\n",
        "data['Condition of the House'][data['Condition of the House']=='Good']='1'\n",
        "data['Condition of the House'][data['Condition of the House']=='Excellent']='3'\n",
        "data['Condition of the House'].unique()"
      ],
      "metadata": {
        "colab": {
          "base_uri": "https://localhost:8080/"
        },
        "id": "0ANp9__tyUZT",
        "outputId": "a3ca8750-a498-4058-e0da-c9172e984512"
      },
      "execution_count": 47,
      "outputs": [
        {
          "output_type": "execute_result",
          "data": {
            "text/plain": [
              "array(['1', '3', '0'], dtype=object)"
            ]
          },
          "metadata": {},
          "execution_count": 47
        }
      ]
    },
    {
      "cell_type": "markdown",
      "source": [
        "But we are repeating our code again and again\n",
        "map function reducing size of the code\n"
      ],
      "metadata": {
        "id": "SyMtHvyK4qIH"
      }
    },
    {
      "cell_type": "code",
      "source": [
        "data['Condition of the House']=data['Condition of the House'].map({'Good':1,\n",
        "                                                                   'Excellent':3,\n",
        "                                                                   'Fair':1,\n",
        "                                                                   'Bad':0,\n",
        "                                                                   'Okay':0})"
      ],
      "metadata": {
        "id": "1y5kfpn04psb"
      },
      "execution_count": 51,
      "outputs": []
    },
    {
      "cell_type": "code",
      "source": [
        "data['Condition of the House'].unique()"
      ],
      "metadata": {
        "colab": {
          "base_uri": "https://localhost:8080/"
        },
        "id": "y6w5AtOo5lrb",
        "outputId": "cd63290c-9a66-4dfd-9247-8f296827a862"
      },
      "execution_count": 52,
      "outputs": [
        {
          "output_type": "execute_result",
          "data": {
            "text/plain": [
              "array([nan])"
            ]
          },
          "metadata": {},
          "execution_count": 52
        }
      ]
    },
    {
      "cell_type": "code",
      "source": [
        "data.head()"
      ],
      "metadata": {
        "colab": {
          "base_uri": "https://localhost:8080/",
          "height": 525
        },
        "id": "B8Uz72408Z05",
        "outputId": "30538ad7-6173-4285-a23a-a1e2b4253319"
      },
      "execution_count": 53,
      "outputs": [
        {
          "output_type": "execute_result",
          "data": {
            "text/plain": [
              "           ID Date House was Sold  Sale Price  No of Bedrooms  \\\n",
              "0  7129300520     14 October 2017    221900.0               3   \n",
              "1  6414100192    14 December 2017    538000.0               3   \n",
              "2  5631500400    15 February 2016    180000.0               2   \n",
              "3  2487200875    14 December 2017    604000.0               4   \n",
              "4  1954400510    15 February 2016    510000.0               3   \n",
              "\n",
              "   No of Bathrooms  Flat Area (in Sqft)  Lot Area (in Sqft)  No of Floors  \\\n",
              "0             1.00               1180.0              5650.0           1.0   \n",
              "1             2.25               2570.0              7242.0           2.0   \n",
              "2             1.00                770.0             10000.0           1.0   \n",
              "3             3.00               1960.0              5000.0           1.0   \n",
              "4             2.00               1680.0              8080.0           1.0   \n",
              "\n",
              "  Waterfront View No of Times Visited  ...  Renovated Year  Zipcode  Latitude  \\\n",
              "0              No                None  ...               0  98178.0   47.5112   \n",
              "1              No                None  ...            1991  98125.0   47.7210   \n",
              "2              No                None  ...               0  98028.0   47.7379   \n",
              "3              No                None  ...               0  98136.0   47.5208   \n",
              "4              No                None  ...               0  98074.0   47.6168   \n",
              "\n",
              "   Longitude  Living Area after Renovation (in Sqft)  \\\n",
              "0   -122.257                                  1340.0   \n",
              "1   -122.319                                  1690.0   \n",
              "2   -122.233                                  2720.0   \n",
              "3   -122.393                                  1360.0   \n",
              "4   -122.045                                  1800.0   \n",
              "\n",
              "   Lot Area after Renovation (in Sqft)  Condition sale  zip_condition_sale  \\\n",
              "0                                 5650               0       309410.492386   \n",
              "1                                 7639               0       457826.833898   \n",
              "2                                 8062               0       463785.870192   \n",
              "3                                 5000               0       713929.545455   \n",
              "4                                 7503               0       701063.688312   \n",
              "\n",
              "   Plot length  Total_area  \n",
              "0    34.351128      6830.0  \n",
              "1    50.695167      9812.0  \n",
              "2    27.748874     10770.0  \n",
              "3    44.271887      6960.0  \n",
              "4    40.987803      9760.0  \n",
              "\n",
              "[5 rows x 25 columns]"
            ],
            "text/html": [
              "\n",
              "  <div id=\"df-42dbb8a6-dd58-47d6-9a95-65360ab22229\">\n",
              "    <div class=\"colab-df-container\">\n",
              "      <div>\n",
              "<style scoped>\n",
              "    .dataframe tbody tr th:only-of-type {\n",
              "        vertical-align: middle;\n",
              "    }\n",
              "\n",
              "    .dataframe tbody tr th {\n",
              "        vertical-align: top;\n",
              "    }\n",
              "\n",
              "    .dataframe thead th {\n",
              "        text-align: right;\n",
              "    }\n",
              "</style>\n",
              "<table border=\"1\" class=\"dataframe\">\n",
              "  <thead>\n",
              "    <tr style=\"text-align: right;\">\n",
              "      <th></th>\n",
              "      <th>ID</th>\n",
              "      <th>Date House was Sold</th>\n",
              "      <th>Sale Price</th>\n",
              "      <th>No of Bedrooms</th>\n",
              "      <th>No of Bathrooms</th>\n",
              "      <th>Flat Area (in Sqft)</th>\n",
              "      <th>Lot Area (in Sqft)</th>\n",
              "      <th>No of Floors</th>\n",
              "      <th>Waterfront View</th>\n",
              "      <th>No of Times Visited</th>\n",
              "      <th>...</th>\n",
              "      <th>Renovated Year</th>\n",
              "      <th>Zipcode</th>\n",
              "      <th>Latitude</th>\n",
              "      <th>Longitude</th>\n",
              "      <th>Living Area after Renovation (in Sqft)</th>\n",
              "      <th>Lot Area after Renovation (in Sqft)</th>\n",
              "      <th>Condition sale</th>\n",
              "      <th>zip_condition_sale</th>\n",
              "      <th>Plot length</th>\n",
              "      <th>Total_area</th>\n",
              "    </tr>\n",
              "  </thead>\n",
              "  <tbody>\n",
              "    <tr>\n",
              "      <th>0</th>\n",
              "      <td>7129300520</td>\n",
              "      <td>14 October 2017</td>\n",
              "      <td>221900.0</td>\n",
              "      <td>3</td>\n",
              "      <td>1.00</td>\n",
              "      <td>1180.0</td>\n",
              "      <td>5650.0</td>\n",
              "      <td>1.0</td>\n",
              "      <td>No</td>\n",
              "      <td>None</td>\n",
              "      <td>...</td>\n",
              "      <td>0</td>\n",
              "      <td>98178.0</td>\n",
              "      <td>47.5112</td>\n",
              "      <td>-122.257</td>\n",
              "      <td>1340.0</td>\n",
              "      <td>5650</td>\n",
              "      <td>0</td>\n",
              "      <td>309410.492386</td>\n",
              "      <td>34.351128</td>\n",
              "      <td>6830.0</td>\n",
              "    </tr>\n",
              "    <tr>\n",
              "      <th>1</th>\n",
              "      <td>6414100192</td>\n",
              "      <td>14 December 2017</td>\n",
              "      <td>538000.0</td>\n",
              "      <td>3</td>\n",
              "      <td>2.25</td>\n",
              "      <td>2570.0</td>\n",
              "      <td>7242.0</td>\n",
              "      <td>2.0</td>\n",
              "      <td>No</td>\n",
              "      <td>None</td>\n",
              "      <td>...</td>\n",
              "      <td>1991</td>\n",
              "      <td>98125.0</td>\n",
              "      <td>47.7210</td>\n",
              "      <td>-122.319</td>\n",
              "      <td>1690.0</td>\n",
              "      <td>7639</td>\n",
              "      <td>0</td>\n",
              "      <td>457826.833898</td>\n",
              "      <td>50.695167</td>\n",
              "      <td>9812.0</td>\n",
              "    </tr>\n",
              "    <tr>\n",
              "      <th>2</th>\n",
              "      <td>5631500400</td>\n",
              "      <td>15 February 2016</td>\n",
              "      <td>180000.0</td>\n",
              "      <td>2</td>\n",
              "      <td>1.00</td>\n",
              "      <td>770.0</td>\n",
              "      <td>10000.0</td>\n",
              "      <td>1.0</td>\n",
              "      <td>No</td>\n",
              "      <td>None</td>\n",
              "      <td>...</td>\n",
              "      <td>0</td>\n",
              "      <td>98028.0</td>\n",
              "      <td>47.7379</td>\n",
              "      <td>-122.233</td>\n",
              "      <td>2720.0</td>\n",
              "      <td>8062</td>\n",
              "      <td>0</td>\n",
              "      <td>463785.870192</td>\n",
              "      <td>27.748874</td>\n",
              "      <td>10770.0</td>\n",
              "    </tr>\n",
              "    <tr>\n",
              "      <th>3</th>\n",
              "      <td>2487200875</td>\n",
              "      <td>14 December 2017</td>\n",
              "      <td>604000.0</td>\n",
              "      <td>4</td>\n",
              "      <td>3.00</td>\n",
              "      <td>1960.0</td>\n",
              "      <td>5000.0</td>\n",
              "      <td>1.0</td>\n",
              "      <td>No</td>\n",
              "      <td>None</td>\n",
              "      <td>...</td>\n",
              "      <td>0</td>\n",
              "      <td>98136.0</td>\n",
              "      <td>47.5208</td>\n",
              "      <td>-122.393</td>\n",
              "      <td>1360.0</td>\n",
              "      <td>5000</td>\n",
              "      <td>0</td>\n",
              "      <td>713929.545455</td>\n",
              "      <td>44.271887</td>\n",
              "      <td>6960.0</td>\n",
              "    </tr>\n",
              "    <tr>\n",
              "      <th>4</th>\n",
              "      <td>1954400510</td>\n",
              "      <td>15 February 2016</td>\n",
              "      <td>510000.0</td>\n",
              "      <td>3</td>\n",
              "      <td>2.00</td>\n",
              "      <td>1680.0</td>\n",
              "      <td>8080.0</td>\n",
              "      <td>1.0</td>\n",
              "      <td>No</td>\n",
              "      <td>None</td>\n",
              "      <td>...</td>\n",
              "      <td>0</td>\n",
              "      <td>98074.0</td>\n",
              "      <td>47.6168</td>\n",
              "      <td>-122.045</td>\n",
              "      <td>1800.0</td>\n",
              "      <td>7503</td>\n",
              "      <td>0</td>\n",
              "      <td>701063.688312</td>\n",
              "      <td>40.987803</td>\n",
              "      <td>9760.0</td>\n",
              "    </tr>\n",
              "  </tbody>\n",
              "</table>\n",
              "<p>5 rows × 25 columns</p>\n",
              "</div>\n",
              "      <button class=\"colab-df-convert\" onclick=\"convertToInteractive('df-42dbb8a6-dd58-47d6-9a95-65360ab22229')\"\n",
              "              title=\"Convert this dataframe to an interactive table.\"\n",
              "              style=\"display:none;\">\n",
              "        \n",
              "  <svg xmlns=\"http://www.w3.org/2000/svg\" height=\"24px\"viewBox=\"0 0 24 24\"\n",
              "       width=\"24px\">\n",
              "    <path d=\"M0 0h24v24H0V0z\" fill=\"none\"/>\n",
              "    <path d=\"M18.56 5.44l.94 2.06.94-2.06 2.06-.94-2.06-.94-.94-2.06-.94 2.06-2.06.94zm-11 1L8.5 8.5l.94-2.06 2.06-.94-2.06-.94L8.5 2.5l-.94 2.06-2.06.94zm10 10l.94 2.06.94-2.06 2.06-.94-2.06-.94-.94-2.06-.94 2.06-2.06.94z\"/><path d=\"M17.41 7.96l-1.37-1.37c-.4-.4-.92-.59-1.43-.59-.52 0-1.04.2-1.43.59L10.3 9.45l-7.72 7.72c-.78.78-.78 2.05 0 2.83L4 21.41c.39.39.9.59 1.41.59.51 0 1.02-.2 1.41-.59l7.78-7.78 2.81-2.81c.8-.78.8-2.07 0-2.86zM5.41 20L4 18.59l7.72-7.72 1.47 1.35L5.41 20z\"/>\n",
              "  </svg>\n",
              "      </button>\n",
              "      \n",
              "  <style>\n",
              "    .colab-df-container {\n",
              "      display:flex;\n",
              "      flex-wrap:wrap;\n",
              "      gap: 12px;\n",
              "    }\n",
              "\n",
              "    .colab-df-convert {\n",
              "      background-color: #E8F0FE;\n",
              "      border: none;\n",
              "      border-radius: 50%;\n",
              "      cursor: pointer;\n",
              "      display: none;\n",
              "      fill: #1967D2;\n",
              "      height: 32px;\n",
              "      padding: 0 0 0 0;\n",
              "      width: 32px;\n",
              "    }\n",
              "\n",
              "    .colab-df-convert:hover {\n",
              "      background-color: #E2EBFA;\n",
              "      box-shadow: 0px 1px 2px rgba(60, 64, 67, 0.3), 0px 1px 3px 1px rgba(60, 64, 67, 0.15);\n",
              "      fill: #174EA6;\n",
              "    }\n",
              "\n",
              "    [theme=dark] .colab-df-convert {\n",
              "      background-color: #3B4455;\n",
              "      fill: #D2E3FC;\n",
              "    }\n",
              "\n",
              "    [theme=dark] .colab-df-convert:hover {\n",
              "      background-color: #434B5C;\n",
              "      box-shadow: 0px 1px 3px 1px rgba(0, 0, 0, 0.15);\n",
              "      filter: drop-shadow(0px 1px 2px rgba(0, 0, 0, 0.3));\n",
              "      fill: #FFFFFF;\n",
              "    }\n",
              "  </style>\n",
              "\n",
              "      <script>\n",
              "        const buttonEl =\n",
              "          document.querySelector('#df-42dbb8a6-dd58-47d6-9a95-65360ab22229 button.colab-df-convert');\n",
              "        buttonEl.style.display =\n",
              "          google.colab.kernel.accessAllowed ? 'block' : 'none';\n",
              "\n",
              "        async function convertToInteractive(key) {\n",
              "          const element = document.querySelector('#df-42dbb8a6-dd58-47d6-9a95-65360ab22229');\n",
              "          const dataTable =\n",
              "            await google.colab.kernel.invokeFunction('convertToInteractive',\n",
              "                                                     [key], {});\n",
              "          if (!dataTable) return;\n",
              "\n",
              "          const docLinkHtml = 'Like what you see? Visit the ' +\n",
              "            '<a target=\"_blank\" href=https://colab.research.google.com/notebooks/data_table.ipynb>data table notebook</a>'\n",
              "            + ' to learn more about interactive tables.';\n",
              "          element.innerHTML = '';\n",
              "          dataTable['output_type'] = 'display_data';\n",
              "          await google.colab.output.renderOutput(dataTable, element);\n",
              "          const docLink = document.createElement('div');\n",
              "          docLink.innerHTML = docLinkHtml;\n",
              "          element.appendChild(docLink);\n",
              "        }\n",
              "      </script>\n",
              "    </div>\n",
              "  </div>\n",
              "  "
            ]
          },
          "metadata": {},
          "execution_count": 53
        }
      ]
    },
    {
      "cell_type": "code",
      "source": [
        "data['Date House was Sold'].unique()"
      ],
      "metadata": {
        "colab": {
          "base_uri": "https://localhost:8080/"
        },
        "id": "6eLAy_Kr8dpC",
        "outputId": "dd66f68e-d9de-4421-e3ad-d1b862cbdb9c"
      },
      "execution_count": 54,
      "outputs": [
        {
          "output_type": "execute_result",
          "data": {
            "text/plain": [
              "array(['14 October 2017', '14 December 2017', '15 February 2016',\n",
              "       '14 May 2017', '14 June 2017', '15 January 2016', '15 April 2016',\n",
              "       '15 March 2016', '14 July 2017', '14 August 2017',\n",
              "       '14 November 2017', '14 September 2017', '15 May 2016'],\n",
              "      dtype=object)"
            ]
          },
          "metadata": {},
          "execution_count": 54
        }
      ]
    },
    {
      "cell_type": "code",
      "source": [
        "year = []\n",
        "for i in range(len(data['Date House was Sold'])):\n",
        "  k = data['Date House was Sold'][i].split()[-1]\n",
        "  year.append(k)\n",
        "\n",
        "data['year_sold'] = year\n",
        "data['year_sold'].head()\n"
      ],
      "metadata": {
        "colab": {
          "base_uri": "https://localhost:8080/"
        },
        "id": "-kPfgBj98j7n",
        "outputId": "b87afb13-6e29-4288-dc28-1556246fefda"
      },
      "execution_count": 66,
      "outputs": [
        {
          "output_type": "execute_result",
          "data": {
            "text/plain": [
              "0    2017\n",
              "1    2017\n",
              "2    2016\n",
              "3    2017\n",
              "4    2016\n",
              "Name: year_sold, dtype: object"
            ]
          },
          "metadata": {},
          "execution_count": 66
        }
      ]
    },
    {
      "cell_type": "code",
      "source": [
        "# using map function\n",
        "def year(value):\n",
        "  return value.split()[-1]\n",
        "\n",
        "data['year_sold']=data['Date House was Sold'].map(year)\n",
        "data['year_sold']"
      ],
      "metadata": {
        "colab": {
          "base_uri": "https://localhost:8080/"
        },
        "id": "E7XxQCo_9kpc",
        "outputId": "e4d6961c-247f-4079-dc7b-868dfc9d146e"
      },
      "execution_count": 67,
      "outputs": [
        {
          "output_type": "execute_result",
          "data": {
            "text/plain": [
              "0        2017\n",
              "1        2017\n",
              "2        2016\n",
              "3        2017\n",
              "4        2016\n",
              "         ... \n",
              "21608    2017\n",
              "21609    2016\n",
              "21610    2017\n",
              "21611    2016\n",
              "21612    2017\n",
              "Name: year_sold, Length: 21613, dtype: object"
            ]
          },
          "metadata": {},
          "execution_count": 67
        }
      ]
    }
  ]
}