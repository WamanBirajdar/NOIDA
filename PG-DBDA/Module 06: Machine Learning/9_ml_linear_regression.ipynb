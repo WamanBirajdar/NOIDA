{
  "nbformat": 4,
  "nbformat_minor": 0,
  "metadata": {
    "colab": {
      "provenance": []
    },
    "kernelspec": {
      "name": "python3",
      "display_name": "Python 3"
    },
    "language_info": {
      "name": "python"
    }
  },
  "cells": [
    {
      "cell_type": "code",
      "execution_count": 5,
      "metadata": {
        "id": "1HMACi-kjQs9"
      },
      "outputs": [],
      "source": [
        "import numpy as np\n",
        "import matplotlib.pyplot as plt \n",
        "\n",
        "import pandas as pd  \n",
        "import seaborn as sns \n",
        "\n",
        "%matplotlib inline"
      ]
    },
    {
      "cell_type": "code",
      "source": [
        "data_set=pd.read_csv(\"/content/Transformed_Housing_Data2.csv\")"
      ],
      "metadata": {
        "id": "FApmnKJCj5h-"
      },
      "execution_count": 7,
      "outputs": []
    },
    {
      "cell_type": "code",
      "source": [
        "X=data_set.iloc[:,1:40].values\n",
        "Y=data_set.iloc[:,0].values"
      ],
      "metadata": {
        "id": "zRzOtJgnk0hH"
      },
      "execution_count": 8,
      "outputs": []
    },
    {
      "cell_type": "code",
      "source": [
        "Y"
      ],
      "metadata": {
        "colab": {
          "base_uri": "https://localhost:8080/"
        },
        "id": "rqYllfUorxIs",
        "outputId": "a0dca243-eda6-4118-8ecd-de3683fabf9b"
      },
      "execution_count": 12,
      "outputs": [
        {
          "output_type": "execute_result",
          "data": {
            "text/plain": [
              "array([221900., 538000., 180000., ..., 402101., 400000., 325000.])"
            ]
          },
          "metadata": {},
          "execution_count": 12
        }
      ]
    },
    {
      "cell_type": "code",
      "source": [
        "from sklearn.model_selection import train_test_split\n",
        "x_train,x_test,y_train,y_test=train_test_split(X,Y,test_size=0.3, random_state=101)\n",
        "x_train.shape, x_test.shape, y_train.shape, y_test.shape"
      ],
      "metadata": {
        "colab": {
          "base_uri": "https://localhost:8080/"
        },
        "id": "XK80FogNr-FK",
        "outputId": "f94a4628-bd52-47a5-dabd-dee23d28af51"
      },
      "execution_count": 15,
      "outputs": [
        {
          "output_type": "execute_result",
          "data": {
            "text/plain": [
              "((15126, 30), (6483, 30), (15126,), (6483,))"
            ]
          },
          "metadata": {},
          "execution_count": 15
        }
      ]
    },
    {
      "cell_type": "code",
      "source": [
        "# fitting multi linear regression model to training model\n",
        "from sklearn.linear_model import LinearRegression\n",
        "regressor=LinearRegression()\n",
        "regressor.fit(x_train,y_train)\n",
        "\n",
        "# predicating the test set results\n",
        "y_pred=regressor.predict(x_test)"
      ],
      "metadata": {
        "id": "p2ntDNzFs1O6"
      },
      "execution_count": 16,
      "outputs": []
    },
    {
      "cell_type": "code",
      "source": [
        "# plotting scatter graph to show the prediction\n",
        "# resutl - ytrue vs y_value\n",
        "plt.scatter(y_test, y_pred, c = 'green')\n",
        "plt.xlabel(\"Actual Values\")\n",
        "plt.ylabel(\"Predicted value\")\n",
        "plt.title(\"True value vs predicted value : Linear Regression\")\n",
        "plt.show()\n"
      ],
      "metadata": {
        "colab": {
          "base_uri": "https://localhost:8080/",
          "height": 301
        },
        "id": "TUNDcvGktV4o",
        "outputId": "7b4ef10f-8b42-44be-bb27-4e3f2dd526d0"
      },
      "execution_count": 17,
      "outputs": [
        {
          "output_type": "display_data",
          "data": {
            "text/plain": [
              "<Figure size 432x288 with 1 Axes>"
            ],
            "image/png": "[encoded data removed]"
          },
          "metadata": {
            "needs_background": "light"
          }
        }
      ]
    },
    {
      "cell_type": "markdown",
      "source": [
        "To check errors "
      ],
      "metadata": {
        "id": "1MuA3jeKt__z"
      }
    },
    {
      "cell_type": "code",
      "source": [
        "from sklearn.metrics import mean_absolute_error,mean_squared_error\n",
        "\n",
        "mse=mean_squared_error(y_pred,y_test)\n",
        "mae=mean_absolute_error(y_test,y_pred)\n",
        "\n",
        "print(\"Mean Square Error : \", mse)\n",
        "print(\"Mean Absolute Error : \", mae)"
      ],
      "metadata": {
        "colab": {
          "base_uri": "https://localhost:8080/"
        },
        "id": "yCFMyKxft9e8",
        "outputId": "e1f4c58e-688e-48c8-ead8-5fe20f1d2fe9"
      },
      "execution_count": 18,
      "outputs": [
        {
          "output_type": "stream",
          "name": "stdout",
          "text": [
            "Mean Square Error :  9727422667.753849\n",
            "Mean Absolute Error :  72281.04482257106\n"
          ]
        }
      ]
    },
    {
      "cell_type": "code",
      "source": [
        "# root mean squared error\n",
        "rmse=(np.sqrt(mean_squared_error(y_test,y_pred)))\n",
        "rmse"
      ],
      "metadata": {
        "colab": {
          "base_uri": "https://localhost:8080/"
        },
        "id": "vG4yO1hNuXwi",
        "outputId": "940c9ef2-249c-411e-8bfb-fe09e4ff0c25"
      },
      "execution_count": 19,
      "outputs": [
        {
          "output_type": "execute_result",
          "data": {
            "text/plain": [
              "98627.69726478384"
            ]
          },
          "metadata": {},
          "execution_count": 19
        }
      ]
    },
    {
      "cell_type": "code",
      "source": [
        "from sklearn.metrics import r2_score\n",
        "r2=r2_score(y_test,y_pred)\n",
        "r2"
      ],
      "metadata": {
        "colab": {
          "base_uri": "https://localhost:8080/"
        },
        "id": "Epw4QlrQui1J",
        "outputId": "c89596bd-ae2f-4ac8-b269-0d26a27614d4"
      },
      "execution_count": 20,
      "outputs": [
        {
          "output_type": "execute_result",
          "data": {
            "text/plain": [
              "0.8462355542468845"
            ]
          },
          "metadata": {},
          "execution_count": 20
        }
      ]
    }
  ]
}