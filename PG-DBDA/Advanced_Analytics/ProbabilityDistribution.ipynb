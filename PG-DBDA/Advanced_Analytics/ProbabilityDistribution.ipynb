{
  "nbformat": 4,
  "nbformat_minor": 0,
  "metadata": {
    "colab": {
      "provenance": []
    },
    "kernelspec": {
      "name": "python3",
      "display_name": "Python 3"
    },
    "language_info": {
      "name": "python"
    }
  },
  "cells": [
    {
      "cell_type": "markdown",
      "source": [
        "**Loading Packages**"
      ],
      "metadata": {
        "id": "dizOQTaGKdeX"
      }
    },
    {
      "cell_type": "code",
      "execution_count": 1,
      "metadata": {
        "id": "fJnuWbOLKX6i"
      },
      "outputs": [],
      "source": [
        "import pandas as pd\n",
        "import numpy as np\n",
        "import seaborn as sns\n",
        "import matplotlib.pyplot as plt\n",
        "import scipy as sc"
      ]
    },
    {
      "cell_type": "markdown",
      "source": [
        "**Binomial Distribution**"
      ],
      "metadata": {
        "id": "WoKnuh0QL8Rh"
      }
    },
    {
      "cell_type": "code",
      "source": [
        "from scipy.stats import binom"
      ],
      "metadata": {
        "id": "U7ckRxWcL23k"
      },
      "execution_count": 2,
      "outputs": []
    },
    {
      "cell_type": "markdown",
      "source": [
        "N = sample \n",
        "P = Possible probability"
      ],
      "metadata": {
        "id": "PPXRkckCNce3"
      }
    },
    {
      "cell_type": "markdown",
      "source": [
        "Generate 10000 random number from binomial here n=10, p=0.8"
      ],
      "metadata": {
        "id": "0JAg_zELMMEu"
      }
    },
    {
      "cell_type": "code",
      "source": [
        "data_binom=binom.rvs(n=10,p=0.8,size=1000) \n",
        "data_binom"
      ],
      "metadata": {
        "id": "hWQRxXJaMSM0"
      },
      "execution_count": null,
      "outputs": []
    },
    {
      "cell_type": "markdown",
      "source": [
        "Generate 10 random values using biniomial distribution with n=20,p=0.2 "
      ],
      "metadata": {
        "id": "zBf19O6YNAgv"
      }
    },
    {
      "cell_type": "code",
      "source": [
        "data_binom1=binom.rvs(n=10,p=0.2,size=10)\n",
        "data_binom1"
      ],
      "metadata": {
        "colab": {
          "base_uri": "https://localhost:8080/"
        },
        "id": "38NVmjDXNIE-",
        "outputId": "b329750d-affa-4b22-e80b-e4a8f72efe43"
      },
      "execution_count": 9,
      "outputs": [
        {
          "output_type": "execute_result",
          "data": {
            "text/plain": [
              "array([1, 3, 3, 5, 2, 1, 0, 3, 2, 5])"
            ]
          },
          "metadata": {},
          "execution_count": 9
        }
      ]
    },
    {
      "cell_type": "markdown",
      "source": [
        "**Visualize Data Binomial Distribution graph**"
      ],
      "metadata": {
        "id": "umNC2UXUOzs9"
      }
    },
    {
      "cell_type": "code",
      "source": [
        "ax=sns.distplot(data_binom,kde=False,color='skyblue',hist_kws={\"linewidth\":15,\"alpha\":1})\n",
        "ax.set(xlabel='Binomial Distribution',ylabel='Frequency')"
      ],
      "metadata": {
        "colab": {
          "base_uri": "https://localhost:8080/",
          "height": 296
        },
        "id": "-xv-g9gPOlvg",
        "outputId": "fb9dc153-c55e-43bc-b8ae-1b2323ad9b89"
      },
      "execution_count": 38,
      "outputs": [
        {
          "output_type": "execute_result",
          "data": {
            "text/plain": [
              "[Text(0, 0.5, 'Frequency'), Text(0.5, 0, 'Binomial Distribution')]"
            ]
          },
          "metadata": {},
          "execution_count": 38
        },
        {
          "output_type": "display_data",
          "data": {
            "text/plain": [
              "<Figure size 432x288 with 1 Axes>"
            ],
            "image/png": "[encoded data removed]"
          },
          "metadata": {
            "needs_background": "light"
          }
        }
      ]
    },
    {
      "cell_type": "code",
      "source": [
        "ax=sns.distplot(data_binom,kde=True,color='skyblue',hist_kws={\"linewidth\":15,\"alpha\":1})\n",
        "ax.set(xlabel='Binomial Distribution',ylabel='Frequency')\n",
        "plt.show()"
      ],
      "metadata": {
        "colab": {
          "base_uri": "https://localhost:8080/",
          "height": 334
        },
        "id": "As3t3qSZR-j1",
        "outputId": "b27476f4-c045-4304-d03a-ded0d23c01d0"
      },
      "execution_count": 40,
      "outputs": [
        {
          "output_type": "stream",
          "name": "stderr",
          "text": [
            "/usr/local/lib/python3.8/dist-packages/seaborn/distributions.py:2619: FutureWarning: `distplot` is a deprecated function and will be removed in a future version. Please adapt your code to use either `displot` (a figure-level function with similar flexibility) or `histplot` (an axes-level function for histograms).\n",
            "  warnings.warn(msg, FutureWarning)\n"
          ]
        },
        {
          "output_type": "display_data",
          "data": {
            "text/plain": [
              "<Figure size 432x288 with 1 Axes>"
            ],
            "image/png": "[encoded data removed]"
          },
          "metadata": {
            "needs_background": "light"
          }
        }
      ]
    },
    {
      "cell_type": "markdown",
      "source": [
        "Tossing Coin 10 times consider as one experiment tested 1000 times\n"
      ],
      "metadata": {
        "id": "R4j35o_HTCBx"
      }
    },
    {
      "cell_type": "code",
      "source": [
        "#how many times we getting head\n",
        "n,p=10,.5\n",
        "randNum=np.random.binomial(n,p,1000)\n",
        "print(randNum)"
      ],
      "metadata": {
        "colab": {
          "base_uri": "https://localhost:8080/"
        },
        "id": "e90XBIfzR-K_",
        "outputId": "b5198a62-fc56-4fcb-b82a-50ca1ea5fd66"
      },
      "execution_count": 42,
      "outputs": [
        {
          "output_type": "stream",
          "name": "stdout",
          "text": [
            "[ 0  7  3  4  7  4  5  5  5  4  4  7  4  5  6  5  5  5  7  6  7  3  3  3\n",
            "  3  8  5  7  5  8  6  7  7  6  5  4  5  7  4  2  5  4  5  4  6  4  7  6\n",
            "  5  5  3  6  7  8  5  4  4  4  5  5  5  6  5  3  7  5  5  5  6  4  5  2\n",
            "  6  4  4  7  7  5  5  5  5  5  4  5  7  6  6  4  3  6  4  4  8  7  6  5\n",
            "  5  4  3  7  3  3  7  7  3  4  8  4  4  7  7  4  4  3  5  5  7  8  4  6\n",
            "  7  5  5  3  6  8  4  6  5  5  5  4  5  6  5  5  3  4  6  7  7  6  5  6\n",
            "  4  5  5  4  4  5  6  4  6  6  6  5  3  6  4  6  4  6  3  4  5 10  5  4\n",
            "  3  5  8  5  4  5  5  5  6  6  6  6  4  4  7  2  3  6  5  4  5  5  7  2\n",
            "  4  7  2  6  6  6  3  4  4  2  6  4  5  6  5  5  6  6  6  3  7  4  4  6\n",
            "  4  8  6  5  5  5  5  3  5  5  4  5  6  7  3  4  6  3  3  3  5  8  3  5\n",
            "  6  7  5  5  5  8  3  2  5  2  5  6  6  4  3  4  2  6  5  5  5  6  2  5\n",
            "  4  6  5  4  5  7  5  6  5  8  3  3  3  6  4  2  7  6  2  7  6  6  6  6\n",
            "  3  6  6  8  3  5  5  5  5  7  7  6  6  4  4  5  4  4  4  4  5  6  5  6\n",
            "  5  9  3  5  6  3  6  4  5  6  6  3  5  6  3  4  6  7  4  4  7  7  3  3\n",
            "  7  5  8  6  5  4  4  3  6  4  4  6  7  3  3  7  4  6  2  3  4  5  5  7\n",
            "  3  5  6  2  6  6  7  9  4  3  6  6  6  6  6  5  5  6  3  4  7  7  5  7\n",
            "  4  6  7  4  6  3  4  6  7  5  6  5  3  2  7  7  4  6  2  6  3  5  6  6\n",
            "  5  3  4  4  4  6  6  5  3  6  3  5  5  4  7  8  5  3  7  6  8  6  4 10\n",
            "  6  6  6  5  3  9  7  7  6  5  4  6  4  5  5  5  2  8  2  2  8  8  8  6\n",
            "  5  8  5  7  5  4  6  7  6  4  5  7  6  7  5  7  9  4  5  4  2  4  5  6\n",
            "  3  3  3  7  4  4  5  3  8  6  5  6  6  4  6  3  5  5  4  3  5  6  4  6\n",
            "  5  6  4  4  4  5  5  5  8  2  4  2  4  7  6  2  4  2  5  7  3  5  5  4\n",
            "  4  6  4  6  3  6  5  5  6  4  8  3  7  5  6  7  5  6  3  4  2  4  3  3\n",
            "  8  4  4  4  7  6  5  6  5  6  3  4  6  5  6  6  7  4  3  2  5  4  3  7\n",
            "  5  7  5  7  3  6  4  4  5  5  5  6  2  5  5  6  7  6  6  7  7 10  3  2\n",
            "  4  7  2  7  5  5  8  9  4  6  6  4  2  7  4  7  5  4  6  4  4  4  5  5\n",
            "  7  5  7  8  6  6  6  2  6  3  6  6  4  5  5  7  3  8  6  5  4  7  6  8\n",
            "  5  5  4  6  6  6  6  5  5  4  7  6  5  4  5  5  4  7  5  5  4  6  8  4\n",
            "  8  5  4  6  8  7  4  5  6  4  5  5  5  4  7  3  5  4  4  6  5  5  7  4\n",
            "  5  5  4  4  7  5  5  6  8  5  4  6  6  4  3  5  8  4  3  6  7  5  3  6\n",
            "  7  6  4  3  5  6  5  6  4  1  4  5  4  4  3  3  6  6  4  6  3  7  6  7\n",
            "  5  5  4  5  3  9  3  2  2  6  6  7  5  7  5  6  6  8  6  5  9  5  4  5\n",
            "  6  4  4  4  6  7  5  4  6  3  5  3  4  5  3  5  8  5  2  5  5  4  5  8\n",
            "  8  4  5  5  4  3  4  4  2  4  5  5  4  1  5  4  6  5  6  4  5  7  4  7\n",
            "  3  6  8  3  3  5  7  3  5  3  5  4  4  7  9  8  7  3  6  5  4 10  4  4\n",
            "  4  6  4  2  6  8  6  7  7  4  6  6  7  4  4  7  6  6  6  4  4  6  5  7\n",
            "  7  8  4  6  4  4  6  4  7  7  5  5  5  4  5  6  4  3  3  4  3  6  2  4\n",
            "  3  5  6  7  2  2  6  5  6  6  5  3  4  4  6  5  6  6  3  3  5  5  9  5\n",
            "  5  4  6  5  4  7  1  6  7  6  5  5  7  4  2  5  3  1  7  4  6  4  7  3\n",
            "  4  6  3  5  3  6  6  6  4  8  5  5  8  7  2  4  5  5  5  5  2  2  5  6\n",
            "  5  4  3  4  5  4  5  4  8  4  5  7  6  7  5  6  5  6  4  5  5  7  6  4\n",
            "  6  3  1  5  4  6  4  6  4  2  5  6  8  7  6  5]\n"
          ]
        }
      ]
    },
    {
      "cell_type": "code",
      "source": [
        "ax=sns.distplot(randNum,kde=False,color='skyblue',hist_kws={\"linewidth\":15,\"alpha\":1})\n",
        "ax.set(xlabel='Binomial Distribution',ylabel='Frequency')\n",
        "plt.show()"
      ],
      "metadata": {
        "colab": {
          "base_uri": "https://localhost:8080/",
          "height": 334
        },
        "id": "NGFsFOGzTrPK",
        "outputId": "719844fc-408e-4125-a569-fedd8a993d4b"
      },
      "execution_count": 44,
      "outputs": [
        {
          "output_type": "stream",
          "name": "stderr",
          "text": [
            "/usr/local/lib/python3.8/dist-packages/seaborn/distributions.py:2619: FutureWarning: `distplot` is a deprecated function and will be removed in a future version. Please adapt your code to use either `displot` (a figure-level function with similar flexibility) or `histplot` (an axes-level function for histograms).\n",
            "  warnings.warn(msg, FutureWarning)\n"
          ]
        },
        {
          "output_type": "display_data",
          "data": {
            "text/plain": [
              "<Figure size 432x288 with 1 Axes>"
            ],
            "image/png": "[encoded data removed]"
          },
          "metadata": {
            "needs_background": "light"
          }
        }
      ]
    }
  ]
}